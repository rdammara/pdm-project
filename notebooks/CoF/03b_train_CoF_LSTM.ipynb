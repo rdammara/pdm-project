{
 "cells": [
  {
   "cell_type": "markdown",
   "id": "1f14a77c",
   "metadata": {},
   "source": [
    "# 03b — Train CoF (LSTM)\n",
    "\n",
    "This wrapper sets `algo='lstm'` then runs the unified trainer."
   ]
  },
  {
   "cell_type": "code",
   "execution_count": null,
   "id": "221e2871",
   "metadata": {},
   "outputs": [],
   "source": [
    "algo = 'lstm'"
   ]
  },
  {
   "cell_type": "code",
   "execution_count": null,
   "id": "0b81c966",
   "metadata": {},
   "outputs": [],
   "source": [
    "%run 03_train_eval_CoF.ipynb"
   ]
  }
 ],
 "metadata": {
  "kernelspec": {
   "display_name": "Python 3",
   "language": "python",
   "name": "python3"
  },
  "language_info": {
   "name": "python",
   "pygments_lexer": "ipython3"
  }
 },
 "nbformat": 4,
 "nbformat_minor": 5
}
