{
 "cells": [
  {
   "cell_type": "markdown",
   "id": "8e9d8831",
   "metadata": {},
   "source": [
    "# 03c — Train CoF (XGBOOST)\n",
    "\n",
    "This wrapper sets `algo='xgboost'` then runs the unified trainer."
   ]
  },
  {
   "cell_type": "code",
   "execution_count": null,
   "id": "53662e1e",
   "metadata": {},
   "outputs": [],
   "source": [
    "algo = 'xgboost'"
   ]
  },
  {
   "cell_type": "code",
   "execution_count": null,
   "id": "75c79c19",
   "metadata": {},
   "outputs": [],
   "source": [
    "%run 03_train_eval_CoF.ipynb"
   ]
  }
 ],
 "metadata": {
  "kernelspec": {
   "display_name": "Python 3",
   "language": "python",
   "name": "python3"
  },
  "language_info": {
   "name": "python",
   "pygments_lexer": "ipython3"
  }
 },
 "nbformat": 4,
 "nbformat_minor": 5
}
