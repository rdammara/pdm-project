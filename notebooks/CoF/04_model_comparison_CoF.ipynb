{
 "cells": [
  {
   "cell_type": "markdown",
   "id": "a41cba0c",
   "metadata": {},
   "source": [
    "\n",
    "# 04 — Model Comparison (CoF)\n",
    "\n",
    "- Read `experiments/CoF/runs.csv`\n",
    "- Summarize metrics per algorithm\n",
    "- Plot comparisons\n"
   ]
  },
  {
   "cell_type": "code",
   "execution_count": null,
   "id": "cbe618e8",
   "metadata": {},
   "outputs": [],
   "source": [
    "\n",
    "import pandas as pd\n",
    "from pathlib import Path\n",
    "import matplotlib.pyplot as plt\n",
    "\n",
    "ROOT = Path.cwd().parents[1] if Path.cwd().name.lower() == 'cof' else Path.cwd()\n",
    "RUNS = ROOT / 'experiments' / 'CoF' / 'runs.csv'\n",
    "df = pd.read_csv(RUNS)\n",
    "print(\"Loaded runs:\", df.shape)\n",
    "display(df.tail())\n",
    "\n",
    "agg = df.groupby('algo')[['f1','recall','roc_auc']].mean().sort_values('f1', ascending=False)\n",
    "display(agg)\n",
    "\n",
    "plt.figure()\n",
    "agg[['f1','recall','roc_auc']].plot(kind='bar')\n",
    "plt.title('CoF — Metrics by Algorithm')\n",
    "plt.xlabel('Algorithm'); plt.ylabel('Score')\n",
    "plt.tight_layout()\n",
    "plt.show()\n"
   ]
  }
 ],
 "metadata": {
  "kernelspec": {
   "display_name": "Python 3",
   "language": "python",
   "name": "python3"
  },
  "language_info": {
   "name": "python",
   "pygments_lexer": "ipython3"
  }
 },
 "nbformat": 4,
 "nbformat_minor": 5
}
