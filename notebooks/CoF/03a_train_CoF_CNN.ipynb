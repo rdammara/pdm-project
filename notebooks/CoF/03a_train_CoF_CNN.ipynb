{
 "cells": [
  {
   "cell_type": "markdown",
   "id": "4c3678f6",
   "metadata": {},
   "source": [
    "# 03a — Train CoF (CNN)\n",
    "\n",
    "This wrapper sets `algo='cnn'` then runs the unified trainer."
   ]
  },
  {
   "cell_type": "code",
   "execution_count": null,
   "id": "73920673",
   "metadata": {},
   "outputs": [],
   "source": [
    "algo = 'cnn'"
   ]
  },
  {
   "cell_type": "code",
   "execution_count": null,
   "id": "0fbdd921",
   "metadata": {},
   "outputs": [],
   "source": [
    "%run 03_train_eval_CoF.ipynb"
   ]
  }
 ],
 "metadata": {
  "kernelspec": {
   "display_name": "Python 3",
   "language": "python",
   "name": "python3"
  },
  "language_info": {
   "name": "python",
   "pygments_lexer": "ipython3"
  }
 },
 "nbformat": 4,
 "nbformat_minor": 5
}
