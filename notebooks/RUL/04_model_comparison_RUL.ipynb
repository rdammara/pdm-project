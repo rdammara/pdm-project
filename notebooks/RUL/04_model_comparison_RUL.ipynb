{
 "cells": [
  {
   "cell_type": "markdown",
   "id": "c4f06178",
   "metadata": {},
   "source": [
    "\n",
    "# 04 — Model Comparison (RUL)\n",
    "\n",
    "- Read `experiments/RUL/runs.csv`\n",
    "- Summarize metrics per algorithm\n",
    "- Plot comparisons and error bars (if multiple runs)\n",
    "    "
   ]
  },
  {
   "cell_type": "code",
   "execution_count": null,
   "id": "d134efcb",
   "metadata": {},
   "outputs": [],
   "source": [
    "\n",
    "import pandas as pd\n",
    "from pathlib import Path\n",
    "import matplotlib.pyplot as plt\n",
    "\n",
    "ROOT = Path.cwd().parents[1] if Path.cwd().name.lower() == 'rul' else Path.cwd()\n",
    "RUNS = ROOT / 'experiments' / 'RUL' / 'runs.csv'\n",
    "df = pd.read_csv(RUNS)\n",
    "print(\"Loaded runs:\", df.shape)\n",
    "display(df.tail())\n",
    "    "
   ]
  },
  {
   "cell_type": "code",
   "execution_count": null,
   "id": "9f814837",
   "metadata": {},
   "outputs": [],
   "source": [
    "\n",
    "# --- Aggregate metrics by algo\n",
    "agg = df.groupby('algo')[['rmse','mae','r2','nasa','silhouette']].mean().sort_values('rmse')\n",
    "display(agg)\n",
    "\n",
    "# --- Plot RMSE/MAE by algo\n",
    "fig = plt.figure()\n",
    "agg[['rmse','mae']].plot(kind='bar')\n",
    "plt.title('RUL — RMSE/MAE by Algorithm')\n",
    "plt.xlabel('Algorithm'); plt.ylabel('Score')\n",
    "plt.tight_layout()\n",
    "plt.show()\n",
    "\n",
    "fig = plt.figure()\n",
    "agg[['r2']].plot(kind='bar')\n",
    "plt.title('RUL — R² by Algorithm')\n",
    "plt.xlabel('Algorithm'); plt.ylabel('R²')\n",
    "plt.tight_layout()\n",
    "plt.show()\n",
    "    "
   ]
  }
 ],
 "metadata": {
  "kernelspec": {
   "display_name": "Python 3",
   "language": "python",
   "name": "python3"
  },
  "language_info": {
   "name": "python",
   "pygments_lexer": "ipython3"
  }
 },
 "nbformat": 4,
 "nbformat_minor": 5
}
